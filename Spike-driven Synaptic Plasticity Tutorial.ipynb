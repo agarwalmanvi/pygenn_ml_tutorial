{
 "cells": [
  {
   "cell_type": "markdown",
   "metadata": {},
   "source": [
    "In this tutorial, we will look at the learning rule presented in [this paper](https://www.ncbi.nlm.nih.gov/pubmed/17883345). Before we train and test a SNN for a chosen task using this rule, we will examine the behaviour of the synaptic plasticity model by trying to reproduce two figures from the paper."
   ]
  },
  {
   "cell_type": "code",
   "execution_count": null,
   "metadata": {},
   "outputs": [],
   "source": [
    "import numpy as np\n",
    "from os import path\n",
    "\n",
    "from pygenn.genn_model import (create_custom_neuron_class,\n",
    "                               create_custom_current_source_class, create_custom_weight_update_class,\n",
    "                               GeNNModel, init_var, init_connectivity)\n",
    "from pygenn.genn_wrapper import NO_DELAY\n",
    "from mlxtend.data import loadlocal_mnist\n",
    "import matplotlib.pyplot as plt"
   ]
  },
  {
   "cell_type": "markdown",
   "metadata": {},
   "source": [
    "# Weight Update model\n",
    "\n",
    "Based on the model reduction presented in Section 3.3 of the paper, the weight update model should be like this:"
   ]
  },
  {
   "cell_type": "code",
   "execution_count": null,
   "metadata": {},
   "outputs": [],
   "source": [
    "fusi_model = create_custom_weight_update_class(\n",
    "    \"fusi_model\",\n",
    "    param_names=[\"tauC\", \"a\", \"b\", \"thetaV\", \"thetaLUp\", \"thetaLDown\", \"thetaHUp\", \"thetaHDown\",\n",
    "                 \"thetaX\", \"alpha\", \"beta\", \"Xmax\", \"Xmin\", \"JC\", \"Jplus\", \"Jminus\"],\n",
    "    var_name_types=[(\"X\", \"scalar\"), (\"last_tpre\", \"scalar\"), (\"decayC\", \"scalar\")],\n",
    "    post_var_name_types=[(\"C\", \"scalar\")],\n",
    "    sim_code=\"\"\"\n",
    "    $(addToInSyn, ($(X) > $(thetaX)) ? $(Jplus) : $(Jminus));\n",
    "    const scalar dt = $(t) - $(sT_post);\n",
    "    $(decayC) = $(C) * exp(-dt / $(tauC));\n",
    "    if ($(V_post) > $(thetaV) && $(thetaLUp) < $(decayC) && $(decayC) < $(thetaHUp)) {\n",
    "        $(X) += $(a);\n",
    "    }\n",
    "    else if ($(V_post) <= $(thetaV) && $(thetaLDown) < $(decayC) && $(decayC) < $(thetaHDown)) {\n",
    "        $(X) -= $(b);\n",
    "    }\n",
    "    else {\n",
    "        const scalar X_dt = $(t) - $(last_tpre);\n",
    "        if ($(X) > $(thetaX)) {\n",
    "            $(X) += $(alpha) * X_dt;\n",
    "        }\n",
    "        else {\n",
    "            $(X) -= $(beta) * X_dt;\n",
    "        }\n",
    "    }\n",
    "    $(X) = fmin($(Xmax), fmax($(Xmin), $(X)));\n",
    "    $(last_tpre) = $(t);\n",
    "    \"\"\",\n",
    "    post_spike_code=\"\"\"\n",
    "    const scalar dt = $(t) - $(sT_post);\n",
    "    $(C) = ($(C) * exp(-dt / $(tauC))) + $(JC);\n",
    "    \"\"\",\n",
    "    is_pre_spike_time_required=True,\n",
    "    is_post_spike_time_required=True\n",
    ")"
   ]
  },
  {
   "cell_type": "markdown",
   "metadata": {},
   "source": [
    "In this model, the synaptic weight can take two values: `Jplus` or `Jminus`. Which value it takes is determined by the value of the internal synaptic variable `X`. In `sim_code`, you can see that the value of `X` is updated when a presynaptic spike arrives, and is based on the postsynaptic depolarization `V_post` and the postsynaptic calcium variable `C`. In `post_spike_code`, `C` is incremented when a postsynaptic spike occurs. <br>\n",
    "\n",
    "In the paper, the authors use an Integrate-and-Fire neuron model with a linear leak, which looks like this:"
   ]
  },
  {
   "cell_type": "code",
   "execution_count": null,
   "metadata": {},
   "outputs": [],
   "source": [
    "if_model = create_custom_neuron_class(\n",
    "    \"if_model\",\n",
    "    param_names=[\"Vtheta\", \"lambda\", \"Vrest\", \"Vreset\"],\n",
    "    var_name_types=[(\"V\", \"scalar\"), (\"SpikeCount\", \"unsigned int\")],\n",
    "    sim_code=\"\"\"\n",
    "    if ($(V) >= $(Vtheta)) {\n",
    "        $(V) = $(Vreset);\n",
    "    }\n",
    "    $(V) += (-$(lambda) + $(Isyn)) * DT;\n",
    "    $(V) = fmax($(V), $(Vrest));\n",
    "    \"\"\",\n",
    "    reset_code=\"\"\"\n",
    "    $(SpikeCount)++;\n",
    "    \"\"\",\n",
    "    threshold_condition_code=\"$(V) >= $(Vtheta)\"\n",
    ")"
   ]
  },
  {
   "cell_type": "markdown",
   "metadata": {},
   "source": [
    "Let's set up the parameters of these models according to the values given in Table 1 in the paper:"
   ]
  },
  {
   "cell_type": "code",
   "execution_count": null,
   "metadata": {},
   "outputs": [],
   "source": [
    "IF_PARAMS = {\"Vtheta\": 1.0,\n",
    "             \"lambda\": 0.01,\n",
    "             \"Vrest\": 0.0,\n",
    "             \"Vreset\": 0.0}\n",
    "FUSI_PARAMS = {\"tauC\": 60.0, \"a\": 0.1, \"b\": 0.1, \"thetaV\": 0.8, \"thetaLUp\": 3.0,\n",
    "               \"thetaLDown\": 3.0, \"thetaHUp\": 13.0, \"thetaHDown\": 4.0, \"thetaX\": 0.5,\n",
    "               \"alpha\": 0.0035, \"beta\": 0.0035, \"Xmax\": 1.0, \"Xmin\": 0.0, \"JC\": 1.0,\n",
    "               \"Jplus\": 1.0, \"Jminus\": 0.0}\n",
    "TIMESTEP = 1.0\n",
    "PRESENT_TIMESTEPS = 300"
   ]
  },
  {
   "cell_type": "markdown",
   "metadata": {},
   "source": [
    "# Reproducing Figure 1\n",
    "\n",
    "Figure 1 from the paper shows the stochastic nature of the weight update, where the same pairing of presynaptic and postsynaptic mean firing rates produces different dynamics for `V_post`, `C` and `X`, and consequently, also for the synaptic weight. Let's reproduce this behaviour to see how the weight update model works. First, let's finish setting up the variable initializers for `if_model` and `fusi_model`."
   ]
  },
  {
   "cell_type": "code",
   "execution_count": null,
   "metadata": {},
   "outputs": [],
   "source": [
    "presyn_params = {\"rate\" : 50.0}\n",
    "extra_poisson_params = {\"rate\" : 100.0}\n",
    "poisson_init = {\"timeStepToSpike\" : 0.0}\n",
    "if_init = {\"V\": 0.0, \"SpikeCount\": 0}\n",
    "fusi_init = {\"X\": 0.0,\n",
    "             \"last_tpre\": 0.0}\n",
    "fusi_post_init = {\"C\": 2.0,\n",
    "             \"last_spike\": 0.0}"
   ]
  },
  {
   "cell_type": "markdown",
   "metadata": {},
   "source": [
    "Now, let's build a model. We need the presynaptic neuron to spike at 50 Hz, and the postsynaptic neuron to spike at 70 Hz. So, we will create a presynaptic population of 1 neuron spiking at 50 Hz, and a postsynaptic population of 1 neuron. To make the postsynaptic neuron spike at the desired mean firing rate, we connect it to another extra population of 10 neurons that spikes at 100 Hz. The weights from this extra population to the postsynaptic neurons can be hand-tuned to obtain the required postsynaptic firing rate."
   ]
  },
  {
   "cell_type": "code",
   "execution_count": null,
   "metadata": {},
   "outputs": [],
   "source": [
    "model = GeNNModel(\"float\", \"fig1\")\n",
    "model.dT = TIMESTEP\n",
    "\n",
    "presyn = model.add_neuron_population(\"presyn\", 1, \"PoissonNew\", presyn_params, poisson_init)\n",
    "postsyn = model.add_neuron_population(\"postsyn\", 1, if_model, IF_PARAMS, if_init)\n",
    "extra_poisson = model.add_neuron_population(\"extra_poisson\", 10, \"PoissonNew\",\n",
    "                                            extra_poisson_params, poisson_init)\n",
    "\n",
    "pre2post = model.add_synapse_population(\n",
    "            \"pre2post\", \"DENSE_INDIVIDUALG\", NO_DELAY,\n",
    "            presyn, postsyn,\n",
    "            fusi_model, FUSI_PARAMS, fusi_init, {}, fusi_post_init,\n",
    "            \"DeltaCurr\", {}, {})\n",
    "\n",
    "extra_poisson2post = model.add_synapse_population(\n",
    "            \"extra_poisson2post\", \"DENSE_INDIVIDUALG\", NO_DELAY,\n",
    "            extra_poisson, postsyn,\n",
    "            \"StaticPulse\", {}, {\"g\": 0.05}, {}, {},\n",
    "            \"DeltaCurr\", {}, {})\n",
    "\n",
    "model.build()\n",
    "model.load()"
   ]
  },
  {
   "cell_type": "markdown",
   "metadata": {},
   "source": [
    "Now, let's set up a place where we can store the variables we want to plot: `C`, presynaptic spike times, `X` and postsynaptic depolarization. And finally, let's run our simulation and plot the results!"
   ]
  },
  {
   "cell_type": "code",
   "execution_count": null,
   "metadata": {},
   "outputs": [],
   "source": [
    "print(\"Simulating\")\n",
    "\n",
    "neuron_layers = [presyn, postsyn]\n",
    "\n",
    "# initialize arrays for storing all things we want to plot\n",
    "layer_spikes = [(np.empty(0), np.empty(0)) for _ in enumerate(neuron_layers)]\n",
    "X = np.array([fusi_init[\"X\"]])\n",
    "postsyn_V = np.array([if_init[\"V\"]])\n",
    "C = np.array([fusi_post_init[\"C\"]])\n",
    "\n",
    "while model.timestep < PRESENT_TIMESTEPS:\n",
    "    model.step_time()\n",
    "\n",
    "    # Record spikes\n",
    "    for i, l in enumerate(neuron_layers):\n",
    "        # Download spikes\n",
    "        model.pull_current_spikes_from_device(l.name)\n",
    "\n",
    "        # Add to data structure\n",
    "        spike_times = np.ones_like(l.current_spikes) * model.t\n",
    "        layer_spikes[i] = (np.hstack((layer_spikes[i][0], l.current_spikes)),\n",
    "                           np.hstack((layer_spikes[i][1], spike_times)))\n",
    "\n",
    "    # Record value of X\n",
    "    model.pull_var_from_device(\"pre2post\", \"X\")\n",
    "    X_val = pre2post.get_var_values(\"X\")\n",
    "    X = np.concatenate((X, X_val), axis=0)\n",
    "\n",
    "    # Record value of postsyn_V\n",
    "    model.pull_var_from_device(\"postsyn\", \"V\")\n",
    "    V_val = postsyn.vars[\"V\"].view\n",
    "    postsyn_V = np.concatenate((postsyn_V, V_val), axis=0)\n",
    "\n",
    "    # Record value of C\n",
    "    model.pull_var_from_device(\"pre2post\", \"C\")\n",
    "    C_val = pre2post.post_vars[\"C\"].view\n",
    "    C = np.concatenate((C, C_val), axis=0)\n",
    "\n",
    "postsyn_spike_rate = len(layer_spikes[1][1]) / (PRESENT_TIMESTEPS / 1000)\n",
    "\n",
    "# Create plot\n",
    "fig, axes = plt.subplots(4, sharex=True)\n",
    "fig.tight_layout(pad=2.0)\n",
    "\n",
    "# plot presyn spikes\n",
    "presyn_spike_times = layer_spikes[0][1]\n",
    "for s in presyn_spike_times:\n",
    "    axes[0].set_xlim((0,PRESENT_TIMESTEPS))\n",
    "    axes[0].axvline(s)\n",
    "axes[0].title.set_text(\"Presynaptic spikes\")\n",
    "\n",
    "# plot X\n",
    "axes[1].title.set_text(\"Synaptic internal variable X(t)\")\n",
    "axes[1].plot(X)\n",
    "axes[1].set_ylim((0,1))\n",
    "axes[1].axhline(0.5, linestyle=\"--\", color=\"black\", linewidth=0.5)\n",
    "axes[1].set_yticklabels([\"0\", \"$\\\\theta_X$\", \"1\"])\n",
    "\n",
    "# plot postsyn V\n",
    "axes[2].title.set_text('Postsynaptic voltage V(t) (Spike rate: ' + str(postsyn_spike_rate) + \" Hz)\")\n",
    "axes[2].plot(postsyn_V)\n",
    "axes[2].set_ylim((0,1.2))\n",
    "axes[2].axhline(1, linestyle=\"--\", color=\"black\", linewidth=0.5)\n",
    "axes[2].axhline(0.8, linestyle=\"--\", color=\"black\", linewidth=0.5)\n",
    "postsyn_spike_times = layer_spikes[1][1]\n",
    "for s in postsyn_spike_times:\n",
    "    axes[2].axvline(s, color=\"red\", linewidth=0.5)\n",
    "\n",
    "# plot C\n",
    "axes[3].plot(C)\n",
    "axes[3].title.set_text(\"Calcium variable C(t)\")\n",
    "for i in [3, 4, 13]:\n",
    "    axes[3].axhline(i, linestyle=\"--\", color=\"black\", linewidth=0.5)\n",
    "\n",
    "plt.show()"
   ]
  },
  {
   "cell_type": "markdown",
   "metadata": {},
   "source": [
    "# Reproducing Figure 2(c)\n",
    "Next, we will reproduce the graph given in Figure 2c from the paper: LTP transition probabilities as a function of v<sub>post</sub> for different values of v<sub>pre</sub>. For this, we simply need to do several runs of the above simulation script, iterating over different combinations of v<sub>pre</sub> and v<sub>post</sub> (note that we don't directly set v<sub>post</sub>; we use the weights from `extra_poisson` to `postsyn` to control v<sub>post</sub>). Ideally, you should do this on a GPU, and the complete script can be found in [this Google Colab notebook](https://colab.research.google.com/drive/106dPA8pOJkK3gQSJ4fVqggOq_WlUFpcK). Below, you can see an example of how to read in each of the CSV files and plot the results."
   ]
  },
  {
   "cell_type": "code",
   "execution_count": null,
   "metadata": {},
   "outputs": [],
   "source": [
    "import pandas as pd\n",
    "import os\n",
    "\n",
    "# create and populate a dataframe with the data from each csv file\n",
    "csv_dir = \"/home/manvi/Documents/pygenn_ml_tutorial/fusi_data/LTP\"\n",
    "csv_list = [i for i in os.listdir(csv_dir) if i[-3:] == \"csv\"]\n",
    "csv_list.sort()\n",
    "df = pd.DataFrame(columns=[\"pre_spike_rate\", \"post_spike_rate\", \"LTP_success\"])\n",
    "\n",
    "for f in csv_list:\n",
    "    f_path = os.path.join(csv_dir, f)\n",
    "    print(\"Processing \" + f)\n",
    "    pre_spike_rate = f[:2]\n",
    "    temp_df = pd.read_csv(f_path)\n",
    "    temp_df[\"pre_spike_rate\"] = pre_spike_rate\n",
    "    df = df.append(temp_df)\n",
    "    print(\"\\n\")\n",
    "    \n",
    "df.post_spike_rate = df.post_spike_rate.round(2)\n",
    "\n",
    "# calculate probabilities\n",
    "total = len(df.index)\n",
    "all_post_rates = df.post_spike_rate.unique()\n",
    "all_post_rates.sort()\n",
    "pre_spike_rates = df.pre_spike_rate.unique()\n",
    "pre_spike_rates.sort()\n",
    "prob = dict()\n",
    "for pre_rate in pre_spike_rates:\n",
    "    \n",
    "    print(\"Processing pre spike rate \" + str(pre_rate) + \" Hz.\")\n",
    "    prob[pre_rate] = [[],[]]\n",
    "    \n",
    "    rate_df = df[df[\"pre_spike_rate\"] == pre_rate]\n",
    "    post_spike_rates = rate_df.post_spike_rate.unique()\n",
    "    \n",
    "    for post_rate in all_post_rates:\n",
    "        if post_rate in post_spike_rates:\n",
    "            post_rate_df = rate_df[rate_df[\"post_spike_rate\"] == post_rate]\n",
    "            success_df = post_rate_df[post_rate_df[\"LTP_success\"] == 1]\n",
    "            success_count = len(success_df.index)\n",
    "            prob[pre_rate][0].append(post_rate)\n",
    "            prob[pre_rate][1].append(success_count / total)\n",
    "            \n",
    "# make the plot\n",
    "fig, ax = plt.subplots()\n",
    "for pre_rate in prob.keys():\n",
    "    ax.plot(prob[pre_rate][0], prob[pre_rate][1], 'o-', label=str(pre_rate)+\" Hz\", alpha=0.5)\n",
    "leg = ax.legend(title=\"Presyn spike rate\")\n",
    "ax.set_xlabel(\"Postsyn spike rate\")\n",
    "ax.set_ylabel(\"Probability\")\n",
    "plt.show()"
   ]
  }
 ],
 "metadata": {
  "kernelspec": {
   "display_name": "Python 3",
   "language": "python",
   "name": "python3"
  },
  "language_info": {
   "codemirror_mode": {
    "name": "ipython",
    "version": 3
   },
   "file_extension": ".py",
   "mimetype": "text/x-python",
   "name": "python",
   "nbconvert_exporter": "python",
   "pygments_lexer": "ipython3",
   "version": "3.7.7"
  }
 },
 "nbformat": 4,
 "nbformat_minor": 4
}
